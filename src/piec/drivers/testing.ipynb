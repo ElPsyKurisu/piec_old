{
 "cells": [
  {
   "cell_type": "code",
   "execution_count": 1,
   "metadata": {},
   "outputs": [],
   "source": [
    "from keysightdsox3024a import DSOX3024a"
   ]
  },
  {
   "cell_type": "code",
   "execution_count": 2,
   "metadata": {},
   "outputs": [],
   "source": [
    "bet = DSOX3024a('ynay')"
   ]
  },
  {
   "cell_type": "code",
   "execution_count": 3,
   "metadata": {},
   "outputs": [
    {
     "data": {
      "text/plain": [
       "<keysightdsox3024a.core.DSOX3024a at 0x203a73d1040>"
      ]
     },
     "execution_count": 3,
     "metadata": {},
     "output_type": "execute_result"
    }
   ],
   "source": [
    "bet"
   ]
  },
  {
   "cell_type": "code",
   "execution_count": null,
   "metadata": {},
   "outputs": [],
   "source": [
    "bet.idn"
   ]
  },
  {
   "cell_type": "code",
   "execution_count": 4,
   "metadata": {},
   "outputs": [],
   "source": [
    "bet.time_range"
   ]
  },
  {
   "cell_type": "code",
   "execution_count": 6,
   "metadata": {},
   "outputs": [
    {
     "name": "stdout",
     "output_type": "stream",
     "text": [
      "{'range': (2e-08, 500)}\n"
     ]
    },
    {
     "ename": "ValueError",
     "evalue": "Error input value of \u001b[1m1000\u001b[0m for arg \u001b[1mtime_range\u001b[0m is out of acceptable Range \u001b[1m(2e-08, 500)\u001b[0m",
     "output_type": "error",
     "traceback": [
      "\u001b[1;31m---------------------------------------------------------------------------\u001b[0m",
      "\u001b[1;31mValueError\u001b[0m                                Traceback (most recent call last)",
      "Cell \u001b[1;32mIn[6], line 1\u001b[0m\n\u001b[1;32m----> 1\u001b[0m \u001b[43mbet\u001b[49m\u001b[38;5;241;43m.\u001b[39;49m\u001b[43msetup\u001b[49m\u001b[43m(\u001b[49m\u001b[43mtime_range\u001b[49m\u001b[38;5;241;43m=\u001b[39;49m\u001b[38;5;124;43m'\u001b[39;49m\u001b[38;5;124;43m1000\u001b[39;49m\u001b[38;5;124;43m'\u001b[39;49m\u001b[43m)\u001b[49m\n",
      "File \u001b[1;32mc:\\Users\\geofr\\Desktop\\Research\\Github\\PIEC\\src\\piec\\drivers\\instrument.py:89\u001b[0m, in \u001b[0;36mScope.setup\u001b[1;34m(self, channel, voltage_range, voltage_offset, delay, time_range, autoscale)\u001b[0m\n\u001b[0;32m     73\u001b[0m \u001b[38;5;28;01mdef\u001b[39;00m \u001b[38;5;21msetup\u001b[39m(\u001b[38;5;28mself\u001b[39m, channel: \u001b[38;5;28mstr\u001b[39m\u001b[38;5;241m=\u001b[39m\u001b[38;5;241m1\u001b[39m, voltage_range: \u001b[38;5;28mstr\u001b[39m\u001b[38;5;241m=\u001b[39m\u001b[38;5;241m16\u001b[39m, voltage_offset: \u001b[38;5;28mstr\u001b[39m\u001b[38;5;241m=\u001b[39m\u001b[38;5;241m1.00\u001b[39m, delay: \u001b[38;5;28mstr\u001b[39m\u001b[38;5;241m=\u001b[39m\u001b[38;5;124m'\u001b[39m\u001b[38;5;124m100e-6\u001b[39m\u001b[38;5;124m'\u001b[39m,\n\u001b[0;32m     74\u001b[0m       time_range: \u001b[38;5;28mstr\u001b[39m\u001b[38;5;241m=\u001b[39m\u001b[38;5;124m'\u001b[39m\u001b[38;5;124m1e-3\u001b[39m\u001b[38;5;124m'\u001b[39m, autoscale\u001b[38;5;241m=\u001b[39m\u001b[38;5;28;01mTrue\u001b[39;00m):\n\u001b[0;32m     75\u001b[0m \u001b[38;5;250m    \u001b[39m\u001b[38;5;124;03m\"\"\"\u001b[39;00m\n\u001b[0;32m     76\u001b[0m \u001b[38;5;124;03m    Sets up the oscilliscope with the given paramaters. If autoscale is turned on it will ignore\u001b[39;00m\n\u001b[0;32m     77\u001b[0m \u001b[38;5;124;03m    all other arguments and simply autoscale the instrument. Otherwise sample paramters are given\u001b[39;00m\n\u001b[1;32m   (...)\u001b[0m\n\u001b[0;32m     87\u001b[0m \u001b[38;5;124;03m        time_range (str): The x scale of the oscilloscope, min 20ns, max 500s\u001b[39;00m\n\u001b[0;32m     88\u001b[0m \u001b[38;5;124;03m    \"\"\"\u001b[39;00m\n\u001b[1;32m---> 89\u001b[0m     \u001b[38;5;28;43mself\u001b[39;49m\u001b[38;5;241;43m.\u001b[39;49m\u001b[43m_check_params\u001b[49m\u001b[43m(\u001b[49m\u001b[38;5;28;43mlocals\u001b[39;49m\u001b[43m(\u001b[49m\u001b[43m)\u001b[49m\u001b[43m)\u001b[49m\n\u001b[0;32m     90\u001b[0m     \u001b[38;5;28mself\u001b[39m\u001b[38;5;241m.\u001b[39mreset()\n\u001b[0;32m     91\u001b[0m     \u001b[38;5;28;01mif\u001b[39;00m autoscale:\n",
      "File \u001b[1;32mc:\\Users\\geofr\\Desktop\\Research\\Github\\PIEC\\src\\piec\\drivers\\instrument.py:56\u001b[0m, in \u001b[0;36mInstrument._check_params\u001b[1;34m(self, locals_dict)\u001b[0m\n\u001b[0;32m     54\u001b[0m \u001b[38;5;28;01mif\u001b[39;00m key_dict_key \u001b[38;5;241m==\u001b[39m \u001b[38;5;124m\"\u001b[39m\u001b[38;5;124mrange\u001b[39m\u001b[38;5;124m\"\u001b[39m:\n\u001b[0;32m     55\u001b[0m     \u001b[38;5;28;01mif\u001b[39;00m \u001b[38;5;129;01mnot\u001b[39;00m is_value_between(input_value, key_dict_key_value): \u001b[38;5;66;03m#will error need to make jey values correct\u001b[39;00m\n\u001b[1;32m---> 56\u001b[0m         \u001b[43mexit_with_error\u001b[49m\u001b[43m(\u001b[49m\u001b[38;5;124;43m\"\u001b[39;49m\u001b[38;5;124;43mError input value of \u001b[39;49m\u001b[38;5;130;43;01m\\033\u001b[39;49;00m\u001b[38;5;124;43m[1m\u001b[39;49m\u001b[38;5;132;43;01m{}\u001b[39;49;00m\u001b[38;5;130;43;01m\\033\u001b[39;49;00m\u001b[38;5;124;43m[0m for arg \u001b[39;49m\u001b[38;5;130;43;01m\\033\u001b[39;49;00m\u001b[38;5;124;43m[1m\u001b[39;49m\u001b[38;5;132;43;01m{}\u001b[39;49;00m\u001b[38;5;130;43;01m\\033\u001b[39;49;00m\u001b[38;5;124;43m[0m is out of acceptable Range \u001b[39;49m\u001b[38;5;130;43;01m\\033\u001b[39;49;00m\u001b[38;5;124;43m[1m\u001b[39;49m\u001b[38;5;132;43;01m{}\u001b[39;49;00m\u001b[38;5;130;43;01m\\033\u001b[39;49;00m\u001b[38;5;124;43m[0m\u001b[39;49m\u001b[38;5;124;43m\"\u001b[39;49m\u001b[38;5;241;43m.\u001b[39;49m\u001b[43mformat\u001b[49m\u001b[43m(\u001b[49m\u001b[43minput_value\u001b[49m\u001b[43m,\u001b[49m\u001b[43m \u001b[49m\u001b[43mkey\u001b[49m\u001b[43m,\u001b[49m\u001b[43m \u001b[49m\u001b[43mkey_dict_key_value\u001b[49m\u001b[43m)\u001b[49m\u001b[43m)\u001b[49m\n\u001b[0;32m     57\u001b[0m \u001b[38;5;28;01melif\u001b[39;00m key_dict_key \u001b[38;5;241m==\u001b[39m \u001b[38;5;124m\"\u001b[39m\u001b[38;5;124mlist\u001b[39m\u001b[38;5;124m\"\u001b[39m:\n\u001b[0;32m     58\u001b[0m     \u001b[38;5;28;01mif\u001b[39;00m \u001b[38;5;129;01mnot\u001b[39;00m is_contained(input_value, key_dict_key_value): \u001b[38;5;66;03m#checks if the input value is in the allowed list\u001b[39;00m\n",
      "File \u001b[1;32mc:\\Users\\geofr\\Desktop\\Research\\Github\\PIEC\\src\\piec\\drivers\\instrument.py:359\u001b[0m, in \u001b[0;36mexit_with_error\u001b[1;34m(msg)\u001b[0m\n\u001b[0;32m    355\u001b[0m \u001b[38;5;28;01mdef\u001b[39;00m \u001b[38;5;21mexit_with_error\u001b[39m(msg):\n\u001b[0;32m    356\u001b[0m \u001b[38;5;250m    \u001b[39m\u001b[38;5;124;03m\"\"\"\u001b[39;00m\n\u001b[0;32m    357\u001b[0m \u001b[38;5;124;03m    Function to raise error message that provides faster feedback\u001b[39;00m\n\u001b[0;32m    358\u001b[0m \u001b[38;5;124;03m    \"\"\"\u001b[39;00m\n\u001b[1;32m--> 359\u001b[0m     \u001b[38;5;28;01mraise\u001b[39;00m \u001b[38;5;167;01mValueError\u001b[39;00m(msg)\n",
      "\u001b[1;31mValueError\u001b[0m: Error input value of \u001b[1m1000\u001b[0m for arg \u001b[1mtime_range\u001b[0m is out of acceptable Range \u001b[1m(2e-08, 500)\u001b[0m"
     ]
    }
   ],
   "source": [
    "bet.setup(time_range='1000')"
   ]
  },
  {
   "cell_type": "code",
   "execution_count": null,
   "metadata": {},
   "outputs": [],
   "source": [
    "bet.voltage_range"
   ]
  },
  {
   "cell_type": "code",
   "execution_count": 9,
   "metadata": {},
   "outputs": [
    {
     "ename": "ValueError",
     "evalue": "Error input value of \u001b[1mmai\u001b[0m for arg \u001b[1mtime_base_type\u001b[0m is not in list of acceptable \u001b[1m['MAIN', 'WINDow', 'WIND', 'XY', 'ROLL']\u001b[0m",
     "output_type": "error",
     "traceback": [
      "\u001b[1;31m---------------------------------------------------------------------------\u001b[0m",
      "\u001b[1;31mValueError\u001b[0m                                Traceback (most recent call last)",
      "Cell \u001b[1;32mIn[9], line 1\u001b[0m\n\u001b[1;32m----> 1\u001b[0m \u001b[43mbet\u001b[49m\u001b[38;5;241;43m.\u001b[39;49m\u001b[43mconfigure_timebase\u001b[49m\u001b[43m(\u001b[49m\u001b[43mtime_base_type\u001b[49m\u001b[38;5;241;43m=\u001b[39;49m\u001b[38;5;124;43m'\u001b[39;49m\u001b[38;5;124;43mmai\u001b[39;49m\u001b[38;5;124;43m'\u001b[39;49m\u001b[43m)\u001b[49m\n",
      "File \u001b[1;32mc:\\Users\\geofr\\Desktop\\Research\\Github\\PIEC\\src\\piec\\drivers\\instrument.py:115\u001b[0m, in \u001b[0;36mScope.configure_timebase\u001b[1;34m(self, time_base_type, position, reference, time_range, time_scale, vernier)\u001b[0m\n\u001b[0;32m    102\u001b[0m \u001b[38;5;28;01mdef\u001b[39;00m \u001b[38;5;21mconfigure_timebase\u001b[39m(\u001b[38;5;28mself\u001b[39m, time_base_type\u001b[38;5;241m=\u001b[39m\u001b[38;5;124m\"\u001b[39m\u001b[38;5;124mMAIN\u001b[39m\u001b[38;5;124m\"\u001b[39m, position\u001b[38;5;241m=\u001b[39m\u001b[38;5;124m\"\u001b[39m\u001b[38;5;124m0.0\u001b[39m\u001b[38;5;124m\"\u001b[39m,\n\u001b[0;32m    103\u001b[0m                    reference\u001b[38;5;241m=\u001b[39m\u001b[38;5;124m\"\u001b[39m\u001b[38;5;124mCENT\u001b[39m\u001b[38;5;124m\"\u001b[39m, time_range\u001b[38;5;241m=\u001b[39m\u001b[38;5;28;01mNone\u001b[39;00m, time_scale\u001b[38;5;241m=\u001b[39m\u001b[38;5;28;01mNone\u001b[39;00m, vernier\u001b[38;5;241m=\u001b[39m\u001b[38;5;28;01mFalse\u001b[39;00m):\n\u001b[0;32m    104\u001b[0m \u001b[38;5;250m    \u001b[39m\u001b[38;5;124;03m\"\"\"Configures the timebase of the oscilliscope. Adapted from EKPY program 'Configure Timebase (Basic)'\u001b[39;00m\n\u001b[0;32m    105\u001b[0m \u001b[38;5;124;03m    Should call initialize first.\u001b[39;00m\n\u001b[0;32m    106\u001b[0m \n\u001b[1;32m   (...)\u001b[0m\n\u001b[0;32m    113\u001b[0m \u001b[38;5;124;03m        vernier (boolean): Enables Vernier scale\u001b[39;00m\n\u001b[0;32m    114\u001b[0m \u001b[38;5;124;03m    \"\"\"\u001b[39;00m\n\u001b[1;32m--> 115\u001b[0m     \u001b[38;5;28;43mself\u001b[39;49m\u001b[38;5;241;43m.\u001b[39;49m\u001b[43m_check_params\u001b[49m\u001b[43m(\u001b[49m\u001b[38;5;28;43mlocals\u001b[39;49m\u001b[43m(\u001b[49m\u001b[43m)\u001b[49m\u001b[43m)\u001b[49m\n\u001b[0;32m    116\u001b[0m     \u001b[38;5;28;01mif\u001b[39;00m time_base_type \u001b[38;5;129;01mis\u001b[39;00m \u001b[38;5;129;01mnot\u001b[39;00m \u001b[38;5;28;01mNone\u001b[39;00m:\n\u001b[0;32m    117\u001b[0m         \u001b[38;5;28mself\u001b[39m\u001b[38;5;241m.\u001b[39mwrite(\u001b[38;5;124m\"\u001b[39m\u001b[38;5;124mTIM:MODE \u001b[39m\u001b[38;5;132;01m{}\u001b[39;00m\u001b[38;5;124m\"\u001b[39m\u001b[38;5;241m.\u001b[39mformat(time_base_type))\n",
      "File \u001b[1;32mc:\\Users\\geofr\\Desktop\\Research\\Github\\PIEC\\src\\piec\\drivers\\instrument.py:61\u001b[0m, in \u001b[0;36mInstrument._check_params\u001b[1;34m(self, locals_dict)\u001b[0m\n\u001b[0;32m     59\u001b[0m \u001b[38;5;28;01melif\u001b[39;00m key_dict_key \u001b[38;5;241m==\u001b[39m \u001b[38;5;124m\"\u001b[39m\u001b[38;5;124mlist\u001b[39m\u001b[38;5;124m\"\u001b[39m:\n\u001b[0;32m     60\u001b[0m     \u001b[38;5;28;01mif\u001b[39;00m \u001b[38;5;129;01mnot\u001b[39;00m is_contained(input_value, key_dict_key_value): \u001b[38;5;66;03m#checks if the input value is in the allowed list\u001b[39;00m\n\u001b[1;32m---> 61\u001b[0m         \u001b[43mexit_with_error\u001b[49m\u001b[43m(\u001b[49m\u001b[38;5;124;43m\"\u001b[39;49m\u001b[38;5;124;43mError input value of \u001b[39;49m\u001b[38;5;130;43;01m\\033\u001b[39;49;00m\u001b[38;5;124;43m[1m\u001b[39;49m\u001b[38;5;132;43;01m{}\u001b[39;49;00m\u001b[38;5;130;43;01m\\033\u001b[39;49;00m\u001b[38;5;124;43m[0m for arg \u001b[39;49m\u001b[38;5;130;43;01m\\033\u001b[39;49;00m\u001b[38;5;124;43m[1m\u001b[39;49m\u001b[38;5;132;43;01m{}\u001b[39;49;00m\u001b[38;5;130;43;01m\\033\u001b[39;49;00m\u001b[38;5;124;43m[0m is not in list of acceptable \u001b[39;49m\u001b[38;5;130;43;01m\\033\u001b[39;49;00m\u001b[38;5;124;43m[1m\u001b[39;49m\u001b[38;5;132;43;01m{}\u001b[39;49;00m\u001b[38;5;130;43;01m\\033\u001b[39;49;00m\u001b[38;5;124;43m[0m\u001b[39;49m\u001b[38;5;124;43m\"\u001b[39;49m\u001b[38;5;241;43m.\u001b[39;49m\u001b[43mformat\u001b[49m\u001b[43m(\u001b[49m\u001b[43minput_value\u001b[49m\u001b[43m,\u001b[49m\u001b[43m \u001b[49m\u001b[43mkey\u001b[49m\u001b[43m,\u001b[49m\u001b[43m \u001b[49m\u001b[43mkey_dict_key_value\u001b[49m\u001b[43m)\u001b[49m\u001b[43m)\u001b[49m\n",
      "File \u001b[1;32mc:\\Users\\geofr\\Desktop\\Research\\Github\\PIEC\\src\\piec\\drivers\\instrument.py:361\u001b[0m, in \u001b[0;36mexit_with_error\u001b[1;34m(msg)\u001b[0m\n\u001b[0;32m    357\u001b[0m \u001b[38;5;28;01mdef\u001b[39;00m \u001b[38;5;21mexit_with_error\u001b[39m(msg):\n\u001b[0;32m    358\u001b[0m \u001b[38;5;250m    \u001b[39m\u001b[38;5;124;03m\"\"\"\u001b[39;00m\n\u001b[0;32m    359\u001b[0m \u001b[38;5;124;03m    Function to raise error message that provides faster feedback\u001b[39;00m\n\u001b[0;32m    360\u001b[0m \u001b[38;5;124;03m    \"\"\"\u001b[39;00m\n\u001b[1;32m--> 361\u001b[0m     \u001b[38;5;28;01mraise\u001b[39;00m \u001b[38;5;167;01mValueError\u001b[39;00m(msg)\n",
      "\u001b[1;31mValueError\u001b[0m: Error input value of \u001b[1mmai\u001b[0m for arg \u001b[1mtime_base_type\u001b[0m is not in list of acceptable \u001b[1m['MAIN', 'WINDow', 'WIND', 'XY', 'ROLL']\u001b[0m"
     ]
    }
   ],
   "source": [
    "bet.configure_timebase(time_base_type='mai')"
   ]
  },
  {
   "cell_type": "code",
   "execution_count": 4,
   "metadata": {},
   "outputs": [
    {
     "ename": "AttributeError",
     "evalue": "'DSOX3024a' object has no attribute 'write'",
     "output_type": "error",
     "traceback": [
      "\u001b[1;31m---------------------------------------------------------------------------\u001b[0m",
      "\u001b[1;31mAttributeError\u001b[0m                            Traceback (most recent call last)",
      "Cell \u001b[1;32mIn[4], line 1\u001b[0m\n\u001b[1;32m----> 1\u001b[0m \u001b[43mbet\u001b[49m\u001b[38;5;241;43m.\u001b[39;49m\u001b[43mconfigure_channel\u001b[49m\u001b[43m(\u001b[49m\u001b[43m)\u001b[49m\n",
      "File \u001b[1;32mc:\\Users\\geofr\\Desktop\\Research\\Github\\PIEC\\src\\piec\\drivers\\instrument.py:151\u001b[0m, in \u001b[0;36mScope.configure_channel\u001b[1;34m(self, channel, scale_mode, voltage_scale, voltage_range, voltage_offset, coupling, probe_attenuation, impedance, enable_channel)\u001b[0m\n\u001b[0;32m    149\u001b[0m \u001b[38;5;28mself\u001b[39m\u001b[38;5;241m.\u001b[39m_check_params(\u001b[38;5;28mlocals\u001b[39m())\n\u001b[0;32m    150\u001b[0m \u001b[38;5;28;01mif\u001b[39;00m scale_mode:\n\u001b[1;32m--> 151\u001b[0m     \u001b[38;5;28;43mself\u001b[39;49m\u001b[38;5;241;43m.\u001b[39;49m\u001b[43mwrite\u001b[49m(\u001b[38;5;124m\"\u001b[39m\u001b[38;5;124mCHAN\u001b[39m\u001b[38;5;132;01m{}\u001b[39;00m\u001b[38;5;124m:SCAL \u001b[39m\u001b[38;5;132;01m{}\u001b[39;00m\u001b[38;5;124m\"\u001b[39m\u001b[38;5;241m.\u001b[39mformat(channel, voltage_scale))\n\u001b[0;32m    152\u001b[0m \u001b[38;5;28;01melse\u001b[39;00m:\n\u001b[0;32m    153\u001b[0m     \u001b[38;5;28mself\u001b[39m\u001b[38;5;241m.\u001b[39mwrite(\u001b[38;5;124m\"\u001b[39m\u001b[38;5;124mCHAN\u001b[39m\u001b[38;5;132;01m{}\u001b[39;00m\u001b[38;5;124m:RANG \u001b[39m\u001b[38;5;132;01m{}\u001b[39;00m\u001b[38;5;124m\"\u001b[39m\u001b[38;5;241m.\u001b[39mformat(channel, voltage_range))\n",
      "\u001b[1;31mAttributeError\u001b[0m: 'DSOX3024a' object has no attribute 'write'"
     ]
    }
   ],
   "source": [
    "bet.configure_channel()"
   ]
  },
  {
   "cell_type": "code",
   "execution_count": 5,
   "metadata": {},
   "outputs": [
    {
     "ename": "AttributeError",
     "evalue": "'DSOX3024a' object has no attribute 'write'",
     "output_type": "error",
     "traceback": [
      "\u001b[1;31m---------------------------------------------------------------------------\u001b[0m",
      "\u001b[1;31mAttributeError\u001b[0m                            Traceback (most recent call last)",
      "Cell \u001b[1;32mIn[5], line 1\u001b[0m\n\u001b[1;32m----> 1\u001b[0m \u001b[43mbet\u001b[49m\u001b[38;5;241;43m.\u001b[39;49m\u001b[43mconfigure_trigger_characteristics\u001b[49m\u001b[43m(\u001b[49m\u001b[43m)\u001b[49m\n",
      "File \u001b[1;32mc:\\Users\\geofr\\Desktop\\Research\\Github\\PIEC\\src\\piec\\drivers\\instrument.py:182\u001b[0m, in \u001b[0;36mScope.configure_trigger_characteristics\u001b[1;34m(self, type, holdoff_time, low_voltage_level, high_voltage_level, trigger_source, sweep, enable_high_freq_filter, enable_noise_filter)\u001b[0m\n\u001b[0;32m    180\u001b[0m     \u001b[38;5;28mself\u001b[39m\u001b[38;5;241m.\u001b[39mwrite(\u001b[38;5;124m\"\u001b[39m\u001b[38;5;124m:TRIG:HFR ON\u001b[39m\u001b[38;5;124m\"\u001b[39m)\n\u001b[0;32m    181\u001b[0m \u001b[38;5;28;01melse\u001b[39;00m:\n\u001b[1;32m--> 182\u001b[0m     \u001b[38;5;28;43mself\u001b[39;49m\u001b[38;5;241;43m.\u001b[39;49m\u001b[43mwrite\u001b[49m(\u001b[38;5;124m\"\u001b[39m\u001b[38;5;124m:TRIG:HFR OFF\u001b[39m\u001b[38;5;124m\"\u001b[39m)\n\u001b[0;32m    183\u001b[0m \u001b[38;5;28mself\u001b[39m\u001b[38;5;241m.\u001b[39mwrite(\u001b[38;5;124m\"\u001b[39m\u001b[38;5;124m:TRIG:HOLD \u001b[39m\u001b[38;5;132;01m{}\u001b[39;00m\u001b[38;5;124m\"\u001b[39m\u001b[38;5;241m.\u001b[39mformat(holdoff_time))\n\u001b[0;32m    184\u001b[0m \u001b[38;5;28mself\u001b[39m\u001b[38;5;241m.\u001b[39mwrite(\u001b[38;5;124m\"\u001b[39m\u001b[38;5;124m:TRIG:LEV:HIGH \u001b[39m\u001b[38;5;132;01m{}\u001b[39;00m\u001b[38;5;124m, \u001b[39m\u001b[38;5;132;01m{}\u001b[39;00m\u001b[38;5;124m\"\u001b[39m\u001b[38;5;241m.\u001b[39mformat(high_voltage_level, trigger_source))\n",
      "\u001b[1;31mAttributeError\u001b[0m: 'DSOX3024a' object has no attribute 'write'"
     ]
    }
   ],
   "source": [
    "bet.configure_trigger_characteristics()"
   ]
  },
  {
   "cell_type": "code",
   "execution_count": 6,
   "metadata": {},
   "outputs": [
    {
     "ename": "AttributeError",
     "evalue": "'DSOX3024a' object has no attribute 'write'",
     "output_type": "error",
     "traceback": [
      "\u001b[1;31m---------------------------------------------------------------------------\u001b[0m",
      "\u001b[1;31mAttributeError\u001b[0m                            Traceback (most recent call last)",
      "Cell \u001b[1;32mIn[6], line 1\u001b[0m\n\u001b[1;32m----> 1\u001b[0m \u001b[43mbet\u001b[49m\u001b[38;5;241;43m.\u001b[39;49m\u001b[43mconfigure_trigger_edge\u001b[49m\u001b[43m(\u001b[49m\u001b[43m)\u001b[49m\n",
      "File \u001b[1;32mc:\\Users\\geofr\\Desktop\\Research\\Github\\PIEC\\src\\piec\\drivers\\instrument.py:205\u001b[0m, in \u001b[0;36mScope.configure_trigger_edge\u001b[1;34m(self, trigger_source, input_coupling, edge_slope, level, filter_type)\u001b[0m\n\u001b[0;32m    195\u001b[0m \u001b[38;5;250m\u001b[39m\u001b[38;5;124;03m\"\"\"Configures the trigger characteristics Taken from LabVIEW. 'Configures the basic settings of the trigger.'\u001b[39;00m\n\u001b[0;32m    196\u001b[0m \u001b[38;5;124;03margs:\u001b[39;00m\n\u001b[0;32m    197\u001b[0m \u001b[38;5;124;03m    scope (pyvisa.resources.gpib.GPIBInstrument): Keysight DSOX3024a\u001b[39;00m\n\u001b[1;32m   (...)\u001b[0m\n\u001b[0;32m    202\u001b[0m \u001b[38;5;124;03m    filter_type (str): Allowed values = [OFF, LFR (High-pass filter), HFR (Low-pass filter)] Note: Low Frequency reject == High-pass\u001b[39;00m\n\u001b[0;32m    203\u001b[0m \u001b[38;5;124;03m\"\"\"\u001b[39;00m\n\u001b[0;32m    204\u001b[0m \u001b[38;5;28mself\u001b[39m\u001b[38;5;241m.\u001b[39m_check_params(\u001b[38;5;28mlocals\u001b[39m())\n\u001b[1;32m--> 205\u001b[0m \u001b[38;5;28;43mself\u001b[39;49m\u001b[38;5;241;43m.\u001b[39;49m\u001b[43mwrite\u001b[49m(\u001b[38;5;124m\"\u001b[39m\u001b[38;5;124m:TRIG:SOUR \u001b[39m\u001b[38;5;132;01m{}\u001b[39;00m\u001b[38;5;124m\"\u001b[39m\u001b[38;5;241m.\u001b[39mformat(trigger_source))\n\u001b[0;32m    206\u001b[0m \u001b[38;5;28mself\u001b[39m\u001b[38;5;241m.\u001b[39mwrite(\u001b[38;5;124m\"\u001b[39m\u001b[38;5;124m:TRIG:COUP \u001b[39m\u001b[38;5;132;01m{}\u001b[39;00m\u001b[38;5;124m\"\u001b[39m\u001b[38;5;241m.\u001b[39mformat(input_coupling))\n\u001b[0;32m    207\u001b[0m \u001b[38;5;28mself\u001b[39m\u001b[38;5;241m.\u001b[39mwrite(\u001b[38;5;124m\"\u001b[39m\u001b[38;5;124m:TRIG:LEV \u001b[39m\u001b[38;5;132;01m{}\u001b[39;00m\u001b[38;5;124m\"\u001b[39m\u001b[38;5;241m.\u001b[39mformat(level))\n",
      "\u001b[1;31mAttributeError\u001b[0m: 'DSOX3024a' object has no attribute 'write'"
     ]
    }
   ],
   "source": [
    "bet.configure_trigger_edge()"
   ]
  },
  {
   "cell_type": "code",
   "execution_count": 7,
   "metadata": {},
   "outputs": [
    {
     "ename": "AttributeError",
     "evalue": "'DSOX3024a' object has no attribute 'write'",
     "output_type": "error",
     "traceback": [
      "\u001b[1;31m---------------------------------------------------------------------------\u001b[0m",
      "\u001b[1;31mAttributeError\u001b[0m                            Traceback (most recent call last)",
      "Cell \u001b[1;32mIn[7], line 1\u001b[0m\n\u001b[1;32m----> 1\u001b[0m \u001b[43mbet\u001b[49m\u001b[38;5;241;43m.\u001b[39;49m\u001b[43msetup_wf\u001b[49m\u001b[43m(\u001b[49m\u001b[43m)\u001b[49m\n",
      "File \u001b[1;32mc:\\Users\\geofr\\Desktop\\Research\\Github\\PIEC\\src\\piec\\drivers\\instrument.py:235\u001b[0m, in \u001b[0;36mScope.setup_wf\u001b[1;34m(self, source, byte_order, format, points, points_mode, unsigned)\u001b[0m\n\u001b[0;32m    223\u001b[0m \u001b[38;5;28;01mdef\u001b[39;00m \u001b[38;5;21msetup_wf\u001b[39m(\u001b[38;5;28mself\u001b[39m, source: \u001b[38;5;28mstr\u001b[39m\u001b[38;5;241m=\u001b[39m\u001b[38;5;124m'\u001b[39m\u001b[38;5;124mCHAN1\u001b[39m\u001b[38;5;124m'\u001b[39m, byte_order: \u001b[38;5;28mstr\u001b[39m\u001b[38;5;241m=\u001b[39m\u001b[38;5;124m'\u001b[39m\u001b[38;5;124mMSBF\u001b[39m\u001b[38;5;124m'\u001b[39m, \u001b[38;5;28mformat\u001b[39m: \u001b[38;5;28mstr\u001b[39m\u001b[38;5;241m=\u001b[39m\u001b[38;5;124m'\u001b[39m\u001b[38;5;124mbyte\u001b[39m\u001b[38;5;124m'\u001b[39m, points: \u001b[38;5;28mstr\u001b[39m\u001b[38;5;241m=\u001b[39m\u001b[38;5;124m'\u001b[39m\u001b[38;5;124m1000\u001b[39m\u001b[38;5;124m'\u001b[39m, \n\u001b[0;32m    224\u001b[0m          points_mode: \u001b[38;5;28mstr\u001b[39m\u001b[38;5;241m=\u001b[39m\u001b[38;5;124m'\u001b[39m\u001b[38;5;124mNORMal\u001b[39m\u001b[38;5;124m'\u001b[39m, unsigned: \u001b[38;5;28mstr\u001b[39m\u001b[38;5;241m=\u001b[39m\u001b[38;5;124m'\u001b[39m\u001b[38;5;124mOFF\u001b[39m\u001b[38;5;124m'\u001b[39m):\n\u001b[0;32m    225\u001b[0m \u001b[38;5;250m    \u001b[39m\u001b[38;5;124;03m\"\"\"Sets up the waveform with averaging or not and of a specified format/count  \u001b[39;00m\n\u001b[0;32m    226\u001b[0m \u001b[38;5;124;03m    args:\u001b[39;00m\n\u001b[0;32m    227\u001b[0m \u001b[38;5;124;03m        scope (pyvisa.resources.gpib.GPIBInstrument): Keysight DSOX3024a\u001b[39;00m\n\u001b[1;32m   (...)\u001b[0m\n\u001b[0;32m    233\u001b[0m \u001b[38;5;124;03m        unsigned (str): Allows to switch between unsigned and signed integers [OFF (signed), ON (unsigned)]\u001b[39;00m\n\u001b[0;32m    234\u001b[0m \u001b[38;5;124;03m    \"\"\"\u001b[39;00m\n\u001b[1;32m--> 235\u001b[0m     \u001b[38;5;28mself\u001b[39m\u001b[38;5;241m.\u001b[39m_check_params(\u001b[38;5;28mlocals\u001b[39m())\n\u001b[0;32m    236\u001b[0m     \u001b[38;5;28mself\u001b[39m\u001b[38;5;241m.\u001b[39mwrite(\u001b[38;5;124m\"\u001b[39m\u001b[38;5;124m:WAVeform:SOURce \u001b[39m\u001b[38;5;132;01m{}\u001b[39;00m\u001b[38;5;124m\"\u001b[39m\u001b[38;5;241m.\u001b[39mformat(source))\n\u001b[0;32m    237\u001b[0m     \u001b[38;5;28mself\u001b[39m\u001b[38;5;241m.\u001b[39mwrite(\u001b[38;5;124m\"\u001b[39m\u001b[38;5;124m:WAVeform:BYTeorder \u001b[39m\u001b[38;5;132;01m{}\u001b[39;00m\u001b[38;5;124m\"\u001b[39m\u001b[38;5;241m.\u001b[39mformat(byte_order))\n",
      "\u001b[1;31mAttributeError\u001b[0m: 'DSOX3024a' object has no attribute 'write'"
     ]
    }
   ],
   "source": [
    "bet.setup_wf()"
   ]
  },
  {
   "cell_type": "code",
   "execution_count": 8,
   "metadata": {},
   "outputs": [
    {
     "ename": "AttributeError",
     "evalue": "'DSOX3024a' object has no attribute 'query'",
     "output_type": "error",
     "traceback": [
      "\u001b[1;31m---------------------------------------------------------------------------\u001b[0m",
      "\u001b[1;31mAttributeError\u001b[0m                            Traceback (most recent call last)",
      "Cell \u001b[1;32mIn[8], line 1\u001b[0m\n\u001b[1;32m----> 1\u001b[0m \u001b[43mbet\u001b[49m\u001b[38;5;241;43m.\u001b[39;49m\u001b[43mquery_wf\u001b[49m\u001b[43m(\u001b[49m\u001b[43m)\u001b[49m\n",
      "File \u001b[1;32mc:\\Users\\geofr\\Desktop\\Research\\Github\\PIEC\\src\\piec\\drivers\\instrument.py:271\u001b[0m, in \u001b[0;36mquery_wf\u001b[1;34m(self, byte_order, unsigned)\u001b[0m\n\u001b[0;32m    243\u001b[0m \u001b[38;5;28;01mdef\u001b[39;00m \u001b[38;5;21mquery_wf\u001b[39m(\u001b[38;5;28mself\u001b[39m, byte_order: \u001b[38;5;28mstr\u001b[39m\u001b[38;5;241m=\u001b[39m\u001b[38;5;124m'\u001b[39m\u001b[38;5;124mMSBF\u001b[39m\u001b[38;5;124m'\u001b[39m, unsigned: \u001b[38;5;28mstr\u001b[39m\u001b[38;5;241m=\u001b[39m\u001b[38;5;124m'\u001b[39m\u001b[38;5;124mOFF\u001b[39m\u001b[38;5;124m'\u001b[39m):\n\u001b[0;32m    244\u001b[0m \u001b[38;5;250m    \u001b[39m\u001b[38;5;124;03m\"\"\"Returns the specified channels waveform with averaging or not and of a specified format/count, call\u001b[39;00m\n\u001b[0;32m    245\u001b[0m \u001b[38;5;124;03m    setup_wf first to intialize it correctly. This function only calls queries. First calls preamble to get\u001b[39;00m\n\u001b[0;32m    246\u001b[0m \u001b[38;5;124;03m    data format. Then parses data and converts data to usable format.\u001b[39;00m\n\u001b[0;32m    247\u001b[0m \u001b[38;5;124;03m    GET_PREAMBLE - The preamble block contains all of the current\u001b[39;00m\n\u001b[0;32m    248\u001b[0m \u001b[38;5;124;03m    ' WAVEFORM settings. It is returned in the form <preamble_block><NL>\u001b[39;00m\n\u001b[0;32m    249\u001b[0m \u001b[38;5;124;03m    ' where <preamble_block> is:\u001b[39;00m\n\u001b[0;32m    250\u001b[0m \u001b[38;5;124;03m    ' FORMAT : int16-0= BYTE, 1 = WORD, 4 = ASCII.\u001b[39;00m\n\u001b[0;32m    251\u001b[0m \u001b[38;5;124;03m    ' TYPE : int16-0= NORMAL, 1 = PEAK DETECT, 2 = AVERAGE\u001b[39;00m\n\u001b[0;32m    252\u001b[0m \u001b[38;5;124;03m    ' POINTS : int32 - number of data points transferred.\u001b[39;00m\n\u001b[0;32m    253\u001b[0m \u001b[38;5;124;03m    ' COUNT : int32 - 1 and is always 1.\u001b[39;00m\n\u001b[0;32m    254\u001b[0m \u001b[38;5;124;03m    ' XINCREMENT : float64 - time difference between data points.\u001b[39;00m\n\u001b[0;32m    255\u001b[0m \u001b[38;5;124;03m    ' XORIGIN : float64 - always the first data point in memory.\u001b[39;00m\n\u001b[0;32m    256\u001b[0m \u001b[38;5;124;03m    ' XREFERENCE : int32 - specifies the data point associated with\u001b[39;00m\n\u001b[0;32m    257\u001b[0m \u001b[38;5;124;03m    ' x-origin.\u001b[39;00m\n\u001b[0;32m    258\u001b[0m \u001b[38;5;124;03m    ' YINCREMENT : float32 - voltage diff between data points.\u001b[39;00m\n\u001b[0;32m    259\u001b[0m \u001b[38;5;124;03m    ' YORIGIN : float32 - value is the voltage at center screen.\u001b[39;00m\n\u001b[0;32m    260\u001b[0m \u001b[38;5;124;03m    ' YREFERENCE : int32 - specifies the data point where y-origin\u001b[39;00m\n\u001b[0;32m    261\u001b[0m \u001b[38;5;124;03m    ' occurs \u001b[39;00m\n\u001b[0;32m    262\u001b[0m \u001b[38;5;124;03m    args:\u001b[39;00m\n\u001b[0;32m    263\u001b[0m \u001b[38;5;124;03m        scope (pyvisa.resources.gpib.GPIBInstrument): Keysight DSOX3024a\u001b[39;00m\n\u001b[0;32m    264\u001b[0m \u001b[38;5;124;03m        byte_order (str): Either MSBF (most significant byte first) or LSBF (least significant byte first)\u001b[39;00m\n\u001b[0;32m    265\u001b[0m \u001b[38;5;124;03m        unsigned (str): Allows to switch between unsigned and signed integers [OFF (signed), ON (unsigned)]\u001b[39;00m\n\u001b[0;32m    266\u001b[0m \n\u001b[0;32m    267\u001b[0m \u001b[38;5;124;03m    returns:\u001b[39;00m\n\u001b[0;32m    268\u001b[0m \u001b[38;5;124;03m        preamble_dict (dict) Dictionary with all params labeled. (MetaData)\u001b[39;00m\n\u001b[0;32m    269\u001b[0m \u001b[38;5;124;03m        time (list): Python list with all the scaled time (x_data array)\u001b[39;00m\n\u001b[0;32m    270\u001b[0m \u001b[38;5;124;03m        wfm (list): Python list with all the scaled y_values (y_data array) \u001b[39;00m\n\u001b[1;32m--> 271\u001b[0m \u001b[38;5;124;03m    \"\"\"\u001b[39;00m\n\u001b[0;32m    272\u001b[0m     \u001b[38;5;28mself\u001b[39m\u001b[38;5;241m.\u001b[39m_check_params(\u001b[38;5;28mlocals\u001b[39m())\n\u001b[0;32m    273\u001b[0m     preamble \u001b[38;5;241m=\u001b[39m \u001b[38;5;28mself\u001b[39m\u001b[38;5;241m.\u001b[39mquery(\u001b[38;5;124m\"\u001b[39m\u001b[38;5;124m:WAVeform:PREamble?\u001b[39m\u001b[38;5;124m\"\u001b[39m)\n",
      "\u001b[1;31mAttributeError\u001b[0m: 'DSOX3024a' object has no attribute 'query'"
     ]
    }
   ],
   "source": [
    "bet.query_wf()"
   ]
  },
  {
   "cell_type": "code",
   "execution_count": null,
   "metadata": {},
   "outputs": [],
   "source": []
  }
 ],
 "metadata": {
  "kernelspec": {
   "display_name": "Python 3",
   "language": "python",
   "name": "python3"
  },
  "language_info": {
   "codemirror_mode": {
    "name": "ipython",
    "version": 3
   },
   "file_extension": ".py",
   "mimetype": "text/x-python",
   "name": "python",
   "nbconvert_exporter": "python",
   "pygments_lexer": "ipython3",
   "version": "3.12.0"
  }
 },
 "nbformat": 4,
 "nbformat_minor": 2
}
